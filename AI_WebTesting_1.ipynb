{
 "cells": [
  {
   "cell_type": "code",
   "execution_count": 10,
   "id": "e4314fb9-24e0-410a-a581-b5fc7b245d44",
   "metadata": {},
   "outputs": [],
   "source": [
    "# Шаг 1: Загрузка данных и подготовка данных"
   ]
  },
  {
   "cell_type": "code",
   "execution_count": 11,
   "id": "5a32d143-696d-4c4a-b4d0-1acb58aab20a",
   "metadata": {},
   "outputs": [
    {
     "name": "stdout",
     "output_type": "stream",
     "text": [
      "Пропущенные значения в load_category:\n",
      "447\n",
      "\n",
      "Распределение классов после SMOTE:\n",
      "load_category\n",
      "0    202\n",
      "1    202\n",
      "Name: count, dtype: int64\n",
      "\n",
      "Размеры обучающей выборки после SMOTE: (404, 1)\n",
      "Размеры тестовой выборки: (58, 1)\n",
      "Load Time(s)    float64\n",
      "dtype: object\n",
      "int32\n"
     ]
    },
    {
     "name": "stderr",
     "output_type": "stream",
     "text": [
      "C:\\Users\\vlad4\\AppData\\Local\\Programs\\Python\\Python312\\Lib\\site-packages\\sklearn\\base.py:474: FutureWarning: `BaseEstimator._validate_data` is deprecated in 1.6 and will be removed in 1.7. Use `sklearn.utils.validation.validate_data` instead. This function becomes public and is part of the scikit-learn developer API.\n",
      "  warnings.warn(\n"
     ]
    }
   ],
   "source": [
    "import numpy as np\n",
    "import pandas as pd\n",
    "\n",
    "# Загрузка данных\n",
    "dataset1 = pd.read_csv('dataset_1.csv')\n",
    "\n",
    "# Добавление категорий для времени загрузки\n",
    "bins = [0, 2, float('inf')]\n",
    "labels = ['быстрый', 'медленный']\n",
    "dataset1['load_category'] = pd.cut(dataset1['Load Time(s)'], bins=bins, labels=labels)\n",
    "\n",
    "# Преобразование категорий в числовой формат\n",
    "category_mapping = {'быстрый': 0, 'медленный': 1}\n",
    "dataset1['load_category'] = dataset1['load_category'].map(category_mapping)\n",
    "\n",
    "# Проверка наличия пропущенных значений в load_category\n",
    "print(f\"Пропущенные значения в load_category:\\n{dataset1['load_category'].isnull().sum()}\")\n",
    "\n",
    "# Удаление строк с пропущенными значениями в load_category\n",
    "dataset1 = dataset1.dropna(subset=['load_category'])\n",
    "\n",
    "# Разделение на признаки и целевую переменную\n",
    "X1 = dataset1[['Load Time(s)']]\n",
    "y1 = dataset1['load_category']\n",
    "\n",
    "# Разделение данных на обучающую и тестовую выборки\n",
    "from sklearn.model_selection import train_test_split\n",
    "X_train1, X_test1, y_train1, y_test1 = train_test_split(X1, y1, test_size=0.2, random_state=42)\n",
    "\n",
    "# Применение SMOTE для сбалансирования классов\n",
    "from imblearn.over_sampling import SMOTE\n",
    "smote = SMOTE(random_state=42)\n",
    "X_train1_resampled, y_train1_resampled = smote.fit_resample(X_train1, y_train1)\n",
    "\n",
    "# Проверка распределения классов после SMOTE\n",
    "print(\"\\nРаспределение классов после SMOTE:\")\n",
    "print(pd.Series(y_train1_resampled).value_counts())\n",
    "\n",
    "# Проверка размеров выборок\n",
    "print(f\"\\nРазмеры обучающей выборки после SMOTE: {X_train1_resampled.shape}\")\n",
    "print(f\"Размеры тестовой выборки: {X_test1.shape}\")\n",
    "\n",
    "# Преобразование категориальных данных в числовой формат\n",
    "y_train1 = y_train1.astype('int')  # Преобразуем обучающую выборку\n",
    "y_test1 = y_test1.astype('int')    # Преобразуем тестовую выборку\n",
    "\n",
    "# Проверка типов данных\n",
    "print(X_train1.dtypes)\n",
    "print(y_train1.dtype)"
   ]
  },
  {
   "cell_type": "code",
   "execution_count": 12,
   "id": "736158e4-7bdc-494c-9adf-f31eaaeaf73e",
   "metadata": {},
   "outputs": [],
   "source": [
    "# Шаг 2: Построение и обучение модели"
   ]
  },
  {
   "cell_type": "code",
   "execution_count": 13,
   "id": "fdbc72c5-90d0-4928-837a-c6c4da2c2c94",
   "metadata": {},
   "outputs": [
    {
     "name": "stdout",
     "output_type": "stream",
     "text": [
      "Метрики классификации на тестовой выборке:\n",
      "              precision    recall  f1-score   support\n",
      "\n",
      "           0       1.00      1.00      1.00        50\n",
      "           1       1.00      1.00      1.00         8\n",
      "\n",
      "    accuracy                           1.00        58\n",
      "   macro avg       1.00      1.00      1.00        58\n",
      "weighted avg       1.00      1.00      1.00        58\n",
      "\n",
      "Точность модели: 1.00\n"
     ]
    },
    {
     "data": {
      "image/png": "[encoded data removed]",
      "text/plain": [
       "<Figure size 800x600 with 1 Axes>"
      ]
     },
     "metadata": {},
     "output_type": "display_data"
    },
    {
     "name": "stdout",
     "output_type": "stream",
     "text": [
      "Fitting 5 folds for each of 81 candidates, totalling 405 fits\n",
      "Метрики классификации с лучшей моделью после GridSearchCV:\n",
      "              precision    recall  f1-score   support\n",
      "\n",
      "           0       1.00      1.00      1.00        50\n",
      "           1       1.00      1.00      1.00         8\n",
      "\n",
      "    accuracy                           1.00        58\n",
      "   macro avg       1.00      1.00      1.00        58\n",
      "weighted avg       1.00      1.00      1.00        58\n",
      "\n",
      "Точность с лучшей моделью: 1.00\n"
     ]
    }
   ],
   "source": [
    "# Импорт необходимых библиотек\n",
    "from sklearn.ensemble import RandomForestClassifier\n",
    "from sklearn.metrics import classification_report, accuracy_score\n",
    "from sklearn.model_selection import GridSearchCV\n",
    "import matplotlib.pyplot as plt\n",
    "import seaborn as sns\n",
    "\n",
    "# Построение модели\n",
    "model1 = RandomForestClassifier(random_state=42)\n",
    "\n",
    "# Обучение модели\n",
    "model1.fit(X_train1_resampled, y_train1_resampled)\n",
    "\n",
    "# Оценка модели на тестовой выборке\n",
    "y_pred1 = model1.predict(X_test1)\n",
    "\n",
    "# Вывод метрик классификации\n",
    "print(\"Метрики классификации на тестовой выборке:\")\n",
    "print(classification_report(y_test1, y_pred1))\n",
    "\n",
    "# Оценка точности\n",
    "accuracy = accuracy_score(y_test1, y_pred1)\n",
    "print(f\"Точность модели: {accuracy:.2f}\")\n",
    "\n",
    "# Визуализация важности признаков\n",
    "feature_importances = model1.feature_importances_\n",
    "plt.figure(figsize=(8, 6))\n",
    "sns.barplot(x=feature_importances, y=X_train1.columns)\n",
    "plt.title(\"Важность признаков\")\n",
    "plt.show()\n",
    "\n",
    "# Проведение настройки гиперпараметров с помощью GridSearchCV (опционально)\n",
    "param_grid = {\n",
    "    'n_estimators': [50, 100, 200],\n",
    "    'max_depth': [None, 10, 20],\n",
    "    'min_samples_split': [2, 5, 10],\n",
    "    'min_samples_leaf': [1, 2, 4]\n",
    "}\n",
    "\n",
    "grid_search = GridSearchCV(estimator=model1, param_grid=param_grid, cv=5, n_jobs=-1, verbose=2)\n",
    "grid_search.fit(X_train1_resampled, y_train1_resampled)\n",
    "\n",
    "# Лучшая модель после GridSearchCV\n",
    "best_model1 = grid_search.best_estimator_\n",
    "\n",
    "# Оценка модели с лучшими гиперпараметрами\n",
    "y_pred_best = best_model1.predict(X_test1)\n",
    "print(\"Метрики классификации с лучшей моделью после GridSearchCV:\")\n",
    "print(classification_report(y_test1, y_pred_best))\n",
    "\n",
    "# Оценка точности с лучшими гиперпараметрами\n",
    "accuracy_best = accuracy_score(y_test1, y_pred_best)\n",
    "print(f\"Точность с лучшей моделью: {accuracy_best:.2f}\")"
   ]
  },
  {
   "cell_type": "code",
   "execution_count": 22,
   "id": "7d033da3-27fd-4e8a-8c1c-3dff19629068",
   "metadata": {},
   "outputs": [
    {
     "ename": "AttributeError",
     "evalue": "'RandomForestClassifier' object has no attribute 'save'",
     "output_type": "error",
     "traceback": [
      "\u001b[1;31m---------------------------------------------------------------------------\u001b[0m",
      "\u001b[1;31mAttributeError\u001b[0m                            Traceback (most recent call last)",
      "Cell \u001b[1;32mIn[22], line 3\u001b[0m\n\u001b[0;32m      1\u001b[0m \u001b[38;5;28;01mimport\u001b[39;00m \u001b[38;5;21;01mtensorflow\u001b[39;00m \u001b[38;5;28;01mas\u001b[39;00m \u001b[38;5;21;01mtf\u001b[39;00m\n\u001b[0;32m      2\u001b[0m \u001b[38;5;66;03m# Сохранение первой модели\u001b[39;00m\n\u001b[1;32m----> 3\u001b[0m \u001b[43mmodel1\u001b[49m\u001b[38;5;241;43m.\u001b[39;49m\u001b[43msave\u001b[49m(\u001b[38;5;124m\"\u001b[39m\u001b[38;5;124mmodel1.keras\u001b[39m\u001b[38;5;124m\"\u001b[39m)\n\u001b[0;32m      5\u001b[0m \u001b[38;5;28mprint\u001b[39m(\u001b[38;5;124m\"\u001b[39m\u001b[38;5;124mПервая модель успешно сохранена в формате keras!\u001b[39m\u001b[38;5;124m\"\u001b[39m)\n",
      "\u001b[1;31mAttributeError\u001b[0m: 'RandomForestClassifier' object has no attribute 'save'"
     ]
    }
   ],
   "source": [
    "import tensorflow as tf\n",
    "# Сохранение первой модели\n",
    "model1.save(\"model1.keras\")\n",
    "\n",
    "print(\"Первая модель успешно сохранена в формате keras!\")"
   ]
  },
  {
   "cell_type": "code",
   "execution_count": 19,
   "id": "14911a68-d212-4793-baab-5bdfcdbffd29",
   "metadata": {},
   "outputs": [],
   "source": [
    "# Шаг 3: Вывод текстовых рекомендаций"
   ]
  },
  {
   "cell_type": "code",
   "execution_count": 20,
   "id": "e38b0f6e-b6dd-4de1-a55c-c703a18d05ce",
   "metadata": {},
   "outputs": [
    {
     "name": "stdout",
     "output_type": "stream",
     "text": [
      "Рекомендация: Ваш сайт загружается медленно. Это может повлиять на пользовательский опыт. Рекомендуем оптимизировать изображения, использовать асинхронную загрузку ресурсов и уменьшить время отклика сервера. Проверьте качество хостинга и оптимизацию серверных настроек.\n"
     ]
    }
   ],
   "source": [
    "import joblib\n",
    "\n",
    "#Загрузка обученной модели\n",
    "model_path = 'model1.pkl'\n",
    "model1 = joblib.load(model_path)\n",
    "\n",
    "def generate_recommendation(predicted_class, load_time):\n",
    "    recommendations = {\n",
    "        0: {\n",
    "            \"message\": \"Ваш сайт загружается быстро. Отличная работа!\",\n",
    "            \"advice\": \"Для дальнейшего улучшения производительности минимизируйте количество HTTP-запросов и используйте кэширование.\"\n",
    "        },\n",
    "        1: {\n",
    "            \"message\": \"Ваш сайт загружается медленно. Это может повлиять на пользовательский опыт.\",\n",
    "            \"advice\": \"Рекомендуем оптимизировать изображения, использовать асинхронную загрузку ресурсов и уменьшить время отклика сервера.\"\n",
    "        }\n",
    "    }\n",
    "    \n",
    "    if load_time < 2:\n",
    "        return f\"{recommendations[0]['message']} {recommendations[0]['advice']}\"\n",
    "    elif 2 <= load_time < 4:\n",
    "        return f\"{recommendations[1]['message']} {recommendations[1]['advice']}\"\n",
    "    else:\n",
    "        return f\"{recommendations[1]['message']} {recommendations[1]['advice']} Проверьте качество хостинга и оптимизацию серверных настроек.\"\n",
    "\n",
    "# Тестовый пример\n",
    "sample_load_time = pd.DataFrame([[4.5]], columns=['Load Time(s)'])\n",
    "predicted_class = model1.predict(sample_load_time)[0]\n",
    "\n",
    "# Вывод рекомендации\n",
    "print(f\"Рекомендация: {generate_recommendation(predicted_class, sample_load_time['Load Time(s)'][0])}\")"
   ]
  },
  {
   "cell_type": "code",
   "execution_count": null,
   "id": "a63ea579-e9d3-40b2-82a3-285640f86aaf",
   "metadata": {},
   "outputs": [],
   "source": []
  }
 ],
 "metadata": {
  "kernelspec": {
   "display_name": "Python 3 (ipykernel)",
   "language": "python",
   "name": "python3"
  },
  "language_info": {
   "codemirror_mode": {
    "name": "ipython",
    "version": 3
   },
   "file_extension": ".py",
   "mimetype": "text/x-python",
   "name": "python",
   "nbconvert_exporter": "python",
   "pygments_lexer": "ipython3",
   "version": "3.12.3"
  }
 },
 "nbformat": 4,
 "nbformat_minor": 5
}
